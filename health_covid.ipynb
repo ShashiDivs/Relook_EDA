{
 "cells": [
  {
   "cell_type": "code",
   "execution_count": 1,
   "metadata": {},
   "outputs": [],
   "source": [
    "import pandas as pd\n",
    "import numpy as np"
   ]
  },
  {
   "cell_type": "code",
   "execution_count": 3,
   "metadata": {},
   "outputs": [],
   "source": [
    "df = pd.read_csv(\"Mental_Health.csv\")"
   ]
  },
  {
   "cell_type": "code",
   "execution_count": 4,
   "metadata": {},
   "outputs": [
    {
     "data": {
      "text/plain": [
       "(10772, 16)"
      ]
     },
     "execution_count": 4,
     "metadata": {},
     "output_type": "execute_result"
    }
   ],
   "source": [
    "df.shape"
   ]
  },
  {
   "cell_type": "code",
   "execution_count": 5,
   "metadata": {},
   "outputs": [
    {
     "name": "stdout",
     "output_type": "stream",
     "text": [
      "<class 'pandas.core.frame.DataFrame'>\n",
      "RangeIndex: 10772 entries, 0 to 10771\n",
      "Data columns (total 16 columns):\n",
      " #   Column                                      Non-Null Count  Dtype  \n",
      "---  ------                                      --------------  -----  \n",
      " 0   OSF_ID                                      10772 non-null  int64  \n",
      " 1   Maternal_Age                                10661 non-null  float64\n",
      " 2   Household_Income                            10521 non-null  object \n",
      " 3   Maternal_Education                          10595 non-null  object \n",
      " 4   Edinburgh_Postnatal_Depression_Scale        9598 non-null   float64\n",
      " 5   PROMIS_Anxiety                              9566 non-null   float64\n",
      " 6   Gestational_Age_At_Birth                    6734 non-null   float64\n",
      " 7   Delivery_Date(converted to month and year)  6733 non-null   object \n",
      " 8   Birth_Length                                5480 non-null   float64\n",
      " 9   Birth_Weight                                6078 non-null   float64\n",
      " 10  Delivery_Mode                               5537 non-null   object \n",
      " 11  NICU_Stay                                   5534 non-null   object \n",
      " 12  Language                                    10772 non-null  object \n",
      " 13  Threaten_Life                               9876 non-null   float64\n",
      " 14  Threaten_Baby_Danger                        9868 non-null   float64\n",
      " 15  Threaten_Baby_Harm                          9880 non-null   float64\n",
      "dtypes: float64(9), int64(1), object(6)\n",
      "memory usage: 1.3+ MB\n"
     ]
    }
   ],
   "source": [
    "df.info()"
   ]
  },
  {
   "cell_type": "code",
   "execution_count": 6,
   "metadata": {},
   "outputs": [
    {
     "data": {
      "text/plain": [
       "Index(['OSF_ID', 'Maternal_Age', 'Household_Income', 'Maternal_Education',\n",
       "       'Edinburgh_Postnatal_Depression_Scale', 'PROMIS_Anxiety',\n",
       "       'Gestational_Age_At_Birth',\n",
       "       'Delivery_Date(converted to month and year)', 'Birth_Length',\n",
       "       'Birth_Weight', 'Delivery_Mode', 'NICU_Stay', 'Language',\n",
       "       'Threaten_Life', 'Threaten_Baby_Danger', 'Threaten_Baby_Harm'],\n",
       "      dtype='object')"
      ]
     },
     "execution_count": 6,
     "metadata": {},
     "output_type": "execute_result"
    }
   ],
   "source": [
    "df.columns"
   ]
  },
  {
   "cell_type": "code",
   "execution_count": null,
   "metadata": {},
   "outputs": [],
   "source": []
  }
 ],
 "metadata": {
  "kernelspec": {
   "display_name": "health_env",
   "language": "python",
   "name": "python3"
  },
  "language_info": {
   "codemirror_mode": {
    "name": "ipython",
    "version": 3
   },
   "file_extension": ".py",
   "mimetype": "text/x-python",
   "name": "python",
   "nbconvert_exporter": "python",
   "pygments_lexer": "ipython3",
   "version": "3.8.2"
  }
 },
 "nbformat": 4,
 "nbformat_minor": 2
}
